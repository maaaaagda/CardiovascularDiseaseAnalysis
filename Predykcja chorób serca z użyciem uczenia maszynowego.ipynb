{
 "cells": [
  {
   "cell_type": "markdown",
   "metadata": {},
   "source": [
    "<h1>Informacje ogólne</h1>\n",
    "<br/>\n",
    "<div><b>Zbiór danych:</b> <a href=\"https://www.kaggle.com/sulianova/cardiovascular-disease-dataset\">Cardiovascular Disease dataset</a></div>\n",
    "<div><b>Pojemność zbioru:</b> 70 000 rekordów</div>\n",
    "<div><b>Cel:</b> Analiza danych pacjentów pobranych podczas badań w celu predykcji, czy dany użytkownik posiada chorobę sercowo-naczyniową. W tym celu użyta zostanie uczenie maszynowe z nadzorem. Dane podzielone zostaną na dane treningowe oraz testowe w proporcjach kolejno 70% i 30%. Przebadane zostaną różne algorytmy i modele klasyfikacji.\n",
    "</div>\n",
    "<div><b>Opis danych:</b> Dostępne są trzy typy danych:\n",
    "<ul>Obiektywne - rzeczowe dane</ul>\n",
    "<ul>Badanie - wyniki badania medycznego</ul>\n",
    "<ul>Subiektywne - dane podane przez pacjenta</ul>\n",
    "</div> \n",
    "<div><b>Cechy danych: </b></div>\n",
    "<table>\n",
    "    <tr>\n",
    "        <th>Id</th>\n",
    "        <th>Nazwa</th>\n",
    "        <th>Typ danych</th>\n",
    "        <th>Nazwa kolumny</th>\n",
    "        <th>Typ wartosci</th>\n",
    "    </tr>\n",
    "    <tr>\n",
    "         <td>1</td>\n",
    "         <td>Wiek</td>\n",
    "         <td>Obiektywne </td>\n",
    "         <td>age </td>\n",
    "         <td>int(dni) </td>\n",
    "    </tr>\n",
    "    <tr>\n",
    "         <td>2</td>\n",
    "         <td>Wzrost</td>\n",
    "         <td>Obiektywne </td>\n",
    "         <td>height </td>\n",
    "         <td>int(cm) </td>\n",
    "    </tr>\n",
    "    <tr>\n",
    "         <td>3</td>\n",
    "         <td>Waga</td>\n",
    "         <td>Obiektywne </td>\n",
    "         <td>weight </td>\n",
    "         <td>float (kg) </td>\n",
    "    </tr>\n",
    "    <tr>\n",
    "         <td>4</td>\n",
    "         <td>Płeć</td>\n",
    "         <td>Obiektywne </td>\n",
    "         <td>gender </td>\n",
    "         <td>kod, 1-kobieta, 2-mężczyzna</td>\n",
    "    </tr>\n",
    "    <tr>\n",
    "         <td>5</td>\n",
    "         <td>Ciśnienie skurczowe</td>\n",
    "         <td>Badanie </td>\n",
    "         <td>ap_hi </td>\n",
    "         <td>int</td>\n",
    "    </tr>\n",
    "    <tr>\n",
    "         <td>6</td>\n",
    "         <td>Ciśnienie rozkurczowe</td>\n",
    "         <td>Badanie </td>\n",
    "         <td>ap_ho </td>\n",
    "         <td>int</td>\n",
    "    </tr>\n",
    "    <tr>\n",
    "         <td>7</td>\n",
    "         <td>Cholesterol</td>\n",
    "         <td>Badanie </td>\n",
    "         <td>cholesterol</td>\n",
    "         <td>1: normalny, 2: powyżej normalnego, 3: dużo powyżej normalnego </td>\n",
    "    </tr>\n",
    "    <tr>\n",
    "         <td>8</td>\n",
    "         <td>Glukoza</td>\n",
    "         <td>Badanie </td>\n",
    "         <td>gluc </td>\n",
    "         <td>1: normalny, 2: powyżej normalnego, 3: dużo powyżej normalnego </td>\n",
    "    </tr>\n",
    "    <tr>\n",
    "         <td>9</td>\n",
    "         <td>Palacz</td>\n",
    "         <td>Subiektywne </td>\n",
    "         <td>smoke </td>\n",
    "         <td>binary</td>\n",
    "    </tr>\n",
    "    <tr>\n",
    "         <td>10</td>\n",
    "         <td>Alkohol</td>\n",
    "         <td>Subiektywne </td>\n",
    "         <td>alco </td>\n",
    "         <td>binary</td>\n",
    "    </tr>\n",
    "    <tr>\n",
    "         <td>11</td>\n",
    "         <td>Aktywność fizyczna</td>\n",
    "         <td>Subiektywne </td>\n",
    "         <td>active </td>\n",
    "         <td>binary</td>\n",
    "    </tr>\n",
    "    <tr>\n",
    "         <td>12</td>\n",
    "         <td>Obecność chorób serca</td>\n",
    "         <td>Badanie </td>\n",
    "         <td>cardio </td>\n",
    "         <td>binary</td>\n",
    "    </tr>\n",
    "    \n",
    "    \n",
    "</table>\n"
   ]
  },
  {
   "cell_type": "markdown",
   "metadata": {},
   "source": [
    "<h1> Wczytanie i przygotowanie danych do obróbki</h1>"
   ]
  },
  {
   "cell_type": "code",
   "execution_count": 1,
   "metadata": {},
   "outputs": [
    {
     "data": {
      "text/html": [
       "<div>\n",
       "<style scoped>\n",
       "    .dataframe tbody tr th:only-of-type {\n",
       "        vertical-align: middle;\n",
       "    }\n",
       "\n",
       "    .dataframe tbody tr th {\n",
       "        vertical-align: top;\n",
       "    }\n",
       "\n",
       "    .dataframe thead th {\n",
       "        text-align: right;\n",
       "    }\n",
       "</style>\n",
       "<table border=\"1\" class=\"dataframe\">\n",
       "  <thead>\n",
       "    <tr style=\"text-align: right;\">\n",
       "      <th></th>\n",
       "      <th>id</th>\n",
       "      <th>age</th>\n",
       "      <th>gender</th>\n",
       "      <th>height</th>\n",
       "      <th>weight</th>\n",
       "      <th>ap_hi</th>\n",
       "      <th>ap_lo</th>\n",
       "      <th>cholesterol</th>\n",
       "      <th>gluc</th>\n",
       "      <th>smoke</th>\n",
       "      <th>alco</th>\n",
       "      <th>active</th>\n",
       "      <th>cardio</th>\n",
       "    </tr>\n",
       "  </thead>\n",
       "  <tbody>\n",
       "    <tr>\n",
       "      <th>0</th>\n",
       "      <td>0</td>\n",
       "      <td>18393</td>\n",
       "      <td>2</td>\n",
       "      <td>168</td>\n",
       "      <td>62.0</td>\n",
       "      <td>110</td>\n",
       "      <td>80</td>\n",
       "      <td>1</td>\n",
       "      <td>1</td>\n",
       "      <td>0</td>\n",
       "      <td>0</td>\n",
       "      <td>1</td>\n",
       "      <td>0</td>\n",
       "    </tr>\n",
       "    <tr>\n",
       "      <th>1</th>\n",
       "      <td>1</td>\n",
       "      <td>20228</td>\n",
       "      <td>1</td>\n",
       "      <td>156</td>\n",
       "      <td>85.0</td>\n",
       "      <td>140</td>\n",
       "      <td>90</td>\n",
       "      <td>3</td>\n",
       "      <td>1</td>\n",
       "      <td>0</td>\n",
       "      <td>0</td>\n",
       "      <td>1</td>\n",
       "      <td>1</td>\n",
       "    </tr>\n",
       "    <tr>\n",
       "      <th>2</th>\n",
       "      <td>2</td>\n",
       "      <td>18857</td>\n",
       "      <td>1</td>\n",
       "      <td>165</td>\n",
       "      <td>64.0</td>\n",
       "      <td>130</td>\n",
       "      <td>70</td>\n",
       "      <td>3</td>\n",
       "      <td>1</td>\n",
       "      <td>0</td>\n",
       "      <td>0</td>\n",
       "      <td>0</td>\n",
       "      <td>1</td>\n",
       "    </tr>\n",
       "    <tr>\n",
       "      <th>3</th>\n",
       "      <td>3</td>\n",
       "      <td>17623</td>\n",
       "      <td>2</td>\n",
       "      <td>169</td>\n",
       "      <td>82.0</td>\n",
       "      <td>150</td>\n",
       "      <td>100</td>\n",
       "      <td>1</td>\n",
       "      <td>1</td>\n",
       "      <td>0</td>\n",
       "      <td>0</td>\n",
       "      <td>1</td>\n",
       "      <td>1</td>\n",
       "    </tr>\n",
       "    <tr>\n",
       "      <th>4</th>\n",
       "      <td>4</td>\n",
       "      <td>17474</td>\n",
       "      <td>1</td>\n",
       "      <td>156</td>\n",
       "      <td>56.0</td>\n",
       "      <td>100</td>\n",
       "      <td>60</td>\n",
       "      <td>1</td>\n",
       "      <td>1</td>\n",
       "      <td>0</td>\n",
       "      <td>0</td>\n",
       "      <td>0</td>\n",
       "      <td>0</td>\n",
       "    </tr>\n",
       "  </tbody>\n",
       "</table>\n",
       "</div>"
      ],
      "text/plain": [
       "   id    age  gender  height  weight  ap_hi  ap_lo  cholesterol  gluc  smoke  \\\n",
       "0   0  18393       2     168    62.0    110     80            1     1      0   \n",
       "1   1  20228       1     156    85.0    140     90            3     1      0   \n",
       "2   2  18857       1     165    64.0    130     70            3     1      0   \n",
       "3   3  17623       2     169    82.0    150    100            1     1      0   \n",
       "4   4  17474       1     156    56.0    100     60            1     1      0   \n",
       "\n",
       "   alco  active  cardio  \n",
       "0     0       1       0  \n",
       "1     0       1       1  \n",
       "2     0       0       1  \n",
       "3     0       1       1  \n",
       "4     0       0       0  "
      ]
     },
     "execution_count": 1,
     "metadata": {},
     "output_type": "execute_result"
    }
   ],
   "source": [
    "import pandas as pd\n",
    "\n",
    "col_names = [\"id\", \"age\", \"gender\",\"height\", \"weight\", \"ap_hi\", \"ap_lo\", \"cholesterol\", \"gluc\", \"smoke\", \"alco\", \"active\", \"cardio\"]\n",
    "\n",
    "# load dataset\n",
    "data = pd.read_csv(\"cardio_dataset.csv\", header=None, names=col_names, delimiter=\";\")\n",
    "\n",
    "# drop rows with missing values\n",
    "data.dropna(inplace=True)\n",
    "\n",
    "data.head()"
   ]
  },
  {
   "cell_type": "markdown",
   "metadata": {},
   "source": [
    "<h1>Analiza danych </h1>"
   ]
  },
  {
   "cell_type": "code",
   "execution_count": 8,
   "metadata": {},
   "outputs": [
    {
     "data": {
      "image/png": "[encoded data removed]",
      "text/plain": [
       "<Figure size 432x288 with 1 Axes>"
      ]
     },
     "metadata": {},
     "output_type": "display_data"
    }
   ],
   "source": [
    "import matplotlib.pyplot as plt\n",
    "import numpy as np\n",
    "\n",
    "genders = pd.unique(data['gender'])\n",
    "\n",
    "labels = ['Women', 'Men']\n",
    "\n",
    "df = pd.DataFrame(data, columns=['gender', 'id', 'cardio']).groupby(by=['gender']).agg({'id':'count'}).reset_index()\n",
    "df.rename(columns={'id': 'patientCount'}, inplace=True)\n",
    "\n",
    "\n",
    "women_data  = df[df['gender'] == 1]['patientCount'].values[0]\n",
    "men_data  = df[df['gender'] == 2]['patientCount'].values[0]\n",
    "\n",
    "sizes = [men_data, women_data]\n",
    "\n",
    "fig1, ax1 = plt.subplots()\n",
    "ax1.pie(sizes, labels=labels, autopct='%1.1f%%',\n",
    "        shadow=True, startangle=90)\n",
    "ax1.axis('equal')\n",
    "ax1.set_title('Patients divided into genders')\n",
    "plt.show()"
   ]
  },
  {
   "cell_type": "code",
   "execution_count": 3,
   "metadata": {},
   "outputs": [
    {
     "data": {
      "image/png": "[encoded data removed]",
      "text/plain": [
       "<Figure size 432x288 with 1 Axes>"
      ]
     },
     "metadata": {},
     "output_type": "display_data"
    }
   ],
   "source": [
    "cardio_data = data[data['cardio'] == 1]\n",
    "df = pd.DataFrame(cardio_data, columns=['gender', 'id']).groupby(by=['gender']).agg({'id':'count'}).reset_index()\n",
    "df.rename(columns={'id': 'patientCount'}, inplace=True)\n",
    "\n",
    "\n",
    "women_data  = df[df['gender'] == 1]['patientCount'].values[0]\n",
    "men_data  = df[df['gender'] == 2]['patientCount'].values[0]\n",
    "\n",
    "sizes = [men_data, women_data]\n",
    "\n",
    "fig1, ax1 = plt.subplots()\n",
    "ax1.pie(sizes, labels=labels, autopct='%1.1f%%',\n",
    "        shadow=True, startangle=90)\n",
    "ax1.axis('equal')\n",
    "ax1.set_title('Patients with cardio diseases divided into genders')\n",
    "plt.show()"
   ]
  },
  {
   "cell_type": "code",
   "execution_count": 4,
   "metadata": {},
   "outputs": [
    {
     "name": "stdout",
     "output_type": "stream",
     "text": [
      "Percent of people in the dataset with cardio disease:  49.97 %\n"
     ]
    }
   ],
   "source": [
    "print(\"Percent of people in the dataset with cardio disease: \", len(cardio_data)/len(data) * 100, \"%\")"
   ]
  },
  {
   "cell_type": "markdown",
   "metadata": {},
   "source": [
    "<h1>Wybór cech</h1>"
   ]
  },
  {
   "cell_type": "code",
   "execution_count": 7,
   "metadata": {},
   "outputs": [
    {
     "data": {
      "text/plain": [
       "<matplotlib.axes._subplots.AxesSubplot at 0x7f887e320278>"
      ]
     },
     "execution_count": 7,
     "metadata": {},
     "output_type": "execute_result"
    },
    {
     "data": {
      "image/png": "[encoded data removed]",
      "text/plain": [
       "<Figure size 432x288 with 2 Axes>"
      ]
     },
     "metadata": {
      "needs_background": "light"
     },
     "output_type": "display_data"
    }
   ],
   "source": [
    "import seaborn as sns\n",
    "corr = data.corr()\n",
    "sns.heatmap(corr, \n",
    "            xticklabels=corr.columns.values,\n",
    "            yticklabels=corr.columns.values)"
   ]
  },
  {
   "cell_type": "code",
   "execution_count": 5,
   "metadata": {},
   "outputs": [
    {
     "name": "stderr",
     "output_type": "stream",
     "text": [
      "/home/magda/anaconda3/lib/python3.7/site-packages/sklearn/ensemble/forest.py:246: FutureWarning: The default value of n_estimators will change from 10 in version 0.20 to 100 in 0.22.\n",
      "  \"10 in version 0.20 to 100 in 0.22.\", FutureWarning)\n"
     ]
    },
    {
     "name": "stdout",
     "output_type": "stream",
     "text": [
      "Feature ranking:\n",
      "1. feature age (0.290538)\n",
      "2. feature ap_hi (0.180861)\n",
      "3. feature weight (0.177246)\n",
      "4. feature height (0.168145)\n",
      "5. feature ap_lo (0.107762)\n",
      "6. feature cholesterol (0.045249)\n",
      "7. feature gluc (0.009877)\n",
      "8. feature gender (0.007438)\n",
      "9. feature active (0.005469)\n",
      "10. feature alco (0.003894)\n",
      "11. feature smoke (0.003522)\n"
     ]
    },
    {
     "data": {
      "image/png": "[encoded data removed]",
      "text/plain": [
       "<Figure size 1080x720 with 1 Axes>"
      ]
     },
     "metadata": {
      "needs_background": "light"
     },
     "output_type": "display_data"
    }
   ],
   "source": [
    "\n",
    "from sklearn import datasets\n",
    "from sklearn import metrics\n",
    "from sklearn.ensemble import ExtraTreesClassifier\n",
    "\n",
    "feature_cols = [\"age\",\"gender\",\"height\", \"weight\", \"ap_hi\", \"ap_lo\", \"cholesterol\", \"gluc\", \"smoke\", \"alco\", \"active\"]\n",
    "X = data[feature_cols] # Features\n",
    "Y = data.cardio # Target variable\n",
    "\n",
    "# fit an Extra Trees model to the data\n",
    "model = ExtraTreesClassifier()\n",
    "model.fit(X, Y)\n",
    "\n",
    "importances = model.feature_importances_\n",
    "std = np.std([tree.feature_importances_ for tree in model.estimators_],\n",
    "             axis=0)\n",
    "indices = np.argsort(importances)[::-1]\n",
    "indices_names =  list(map(lambda x: feature_cols[x], indices))\n",
    "\n",
    "# Print the feature ranking\n",
    "print(\"Feature ranking:\")\n",
    "\n",
    "for f in range(X.shape[1]):\n",
    "    print(\"%d. feature %s (%f)\" % (f + 1, indices_names[f], importances[indices[f]]))\n",
    "\n",
    "# Plot the feature importances of the model\n",
    "plt.figure(figsize=(15,10))\n",
    "plt.title(\"Feature importances\")\n",
    "plt.bar(range(X.shape[1]), importances[indices],\n",
    "       color=\"r\", yerr=std[indices], align=\"center\")\n",
    "plt.xticks(range(X.shape[1]), indices_names)\n",
    "plt.xlim([-1, X.shape[1]])\n",
    "plt.show()\n"
   ]
  },
  {
   "cell_type": "code",
   "execution_count": null,
   "metadata": {},
   "outputs": [],
   "source": []
  },
  {
   "cell_type": "code",
   "execution_count": null,
   "metadata": {},
   "outputs": [],
   "source": []
  }
 ],
 "metadata": {
  "kernelspec": {
   "display_name": "Python 3",
   "language": "python",
   "name": "python3"
  },
  "language_info": {
   "codemirror_mode": {
    "name": "ipython",
    "version": 3
   },
   "file_extension": ".py",
   "mimetype": "text/x-python",
   "name": "python",
   "nbconvert_exporter": "python",
   "pygments_lexer": "ipython3",
   "version": "3.7.2"
  }
 },
 "nbformat": 4,
 "nbformat_minor": 2
}
