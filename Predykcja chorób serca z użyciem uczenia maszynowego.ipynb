{
 "cells": [
  {
   "cell_type": "markdown",
   "metadata": {},
   "source": [
    "<h1>1. Wprowadzenie</h1>\n",
    "<br/>\n",
    "<p>Celem ćwiczenia jest analiza danych pacjentów pobranych podczas badań w celu predykcji, czy dany użytkownik posiada chorobę sercowo-naczyniową. </p>\n",
    "<p>W tym celu użyta zostanie uczenie maszynowe z nadzorem. Dane podzielone zostaną na dane treningowe oraz testowe w proporcjach kolejno 70% i 30%. </p>\n",
    "<p>Przebadane zostaną różne algorytmy i modele klasyfikacji. Spodziewanym wynikiem badań będzie określenie, który z modeli klasyfikacji będzie najlepiej dawał sobie radę z klasyfikacją chorób serca oraz czy taki klasyfikator będzie mógł zostać użyty w celu pomocy lekarzom do diagnozy takich chorób.</p>\n",
    "Podczas wykonywania tego ćwiczenia autor ma nadzieję poszerzyć swoją wiedzę w zakresie eksploracji danych i uczenia maszynowego.\n",
    "<p> Poniżej zawarto szczegółowe informacje o analizowanym zbiorze danych:</p>\n",
    "<br/>\n",
    "<div><b>Zbiór danych:</b> <a href=\"https://www.kaggle.com/sulianova/cardiovascular-disease-dataset\">Cardiovascular Disease dataset</a></div>\n",
    "<div><b>Pojemność zbioru:</b> 70 000 rekordów</div>\n",
    "<div><b>Opis danych:</b> Dostępne są trzy typy danych:\n",
    "    <ul>Obiektywne - rzeczowe dane</ul>\n",
    "    <ul>Badanie - wyniki badania medycznego</ul>\n",
    "    <ul>Subiektywne - dane podane przez pacjenta</ul>\n",
    "</div> \n",
    "<div><b>Cechy danych: </b></div>\n",
    "<table>\n",
    "    <tr>\n",
    "        <th>Id</th>\n",
    "        <th>Nazwa</th>\n",
    "        <th>Typ danych</th>\n",
    "        <th>Nazwa kolumny</th>\n",
    "        <th>Typ wartosci</th>\n",
    "    </tr>\n",
    "    <tr>\n",
    "         <td>1</td>\n",
    "         <td>Wiek</td>\n",
    "         <td>Obiektywne </td>\n",
    "         <td>age </td>\n",
    "         <td>int(dni) </td>\n",
    "    </tr>\n",
    "    <tr>\n",
    "         <td>2</td>\n",
    "         <td>Wzrost</td>\n",
    "         <td>Obiektywne </td>\n",
    "         <td>height </td>\n",
    "         <td>int(cm) </td>\n",
    "    </tr>\n",
    "    <tr>\n",
    "         <td>3</td>\n",
    "         <td>Waga</td>\n",
    "         <td>Obiektywne </td>\n",
    "         <td>weight </td>\n",
    "         <td>float (kg) </td>\n",
    "    </tr>\n",
    "    <tr>\n",
    "         <td>4</td>\n",
    "         <td>Płeć</td>\n",
    "         <td>Obiektywne </td>\n",
    "         <td>gender </td>\n",
    "         <td>kod, 1-kobieta, 2-mężczyzna</td>\n",
    "    </tr>\n",
    "    <tr>\n",
    "         <td>5</td>\n",
    "         <td>Ciśnienie skurczowe</td>\n",
    "         <td>Badanie </td>\n",
    "         <td>ap_hi </td>\n",
    "         <td>int</td>\n",
    "    </tr>\n",
    "    <tr>\n",
    "         <td>6</td>\n",
    "         <td>Ciśnienie rozkurczowe</td>\n",
    "         <td>Badanie </td>\n",
    "         <td>ap_ho </td>\n",
    "         <td>int</td>\n",
    "    </tr>\n",
    "    <tr>\n",
    "         <td>7</td>\n",
    "         <td>Cholesterol</td>\n",
    "         <td>Badanie </td>\n",
    "         <td>cholesterol</td>\n",
    "         <td>1: normalny, 2: powyżej normalnego, 3: dużo powyżej normalnego </td>\n",
    "    </tr>\n",
    "    <tr>\n",
    "         <td>8</td>\n",
    "         <td>Glukoza</td>\n",
    "         <td>Badanie </td>\n",
    "         <td>gluc </td>\n",
    "         <td>1: normalny, 2: powyżej normalnego, 3: dużo powyżej normalnego </td>\n",
    "    </tr>\n",
    "    <tr>\n",
    "         <td>9</td>\n",
    "         <td>Palacz</td>\n",
    "         <td>Subiektywne </td>\n",
    "         <td>smoke </td>\n",
    "         <td>binary</td>\n",
    "    </tr>\n",
    "    <tr>\n",
    "         <td>10</td>\n",
    "         <td>Alkohol</td>\n",
    "         <td>Subiektywne </td>\n",
    "         <td>alco </td>\n",
    "         <td>binary</td>\n",
    "    </tr>\n",
    "    <tr>\n",
    "         <td>11</td>\n",
    "         <td>Aktywność fizyczna</td>\n",
    "         <td>Subiektywne </td>\n",
    "         <td>active </td>\n",
    "         <td>binary</td>\n",
    "    </tr>\n",
    "    <tr>\n",
    "         <td>12</td>\n",
    "         <td>Obecność chorób serca</td>\n",
    "         <td>Badanie </td>\n",
    "         <td>cardio </td>\n",
    "         <td>binary</td>\n",
    "    </tr>\n",
    "    \n",
    "    \n",
    "</table>\n"
   ]
  },
  {
   "cell_type": "markdown",
   "metadata": {},
   "source": [
    "<h1>2. Opis przeprowadzonych badań</h1>\n",
    "<p>Do badań wykorzystano następujące narzędzia:</p>\n",
    "<li>Język programowania Python</li>\n",
    "<li>Notatnik Jupyter do prezentowania wyników badań w przystępnej formie</li>\n",
    "<li>Biblioteki i pakiety pomagające w obróbce i analizowaniu danych: pandas, matplotlib, numpy, seaborn, sklearn</li>\n",
    "<br/>\n",
    "<p>Narzędzia te pozwoliły na realizację kolejnych etapów eksploracji wybranego zbioru danych:</p>\n",
    "<ul>1. Wczytanie i przygotowanie danych do obróbki </ul>\n",
    "<ul>2. Poznanie danych</ul>\n",
    "<ul>3. Określenie wagi dostępnych cech dla skuteczności klasyfikatora</ul>\n",
    "<ul>4. Wybór cech użytych dla klasyfikatora</ul>\n",
    "<ul>5. Podział danych na zbiory treningowe i testowe</ul>\n",
    "<ul>6. Przebadanie różnych klasyfikatorów</ul>\n",
    "<ul>7. Regulacja parametrów najlepszych klasyfikatorów</ul>\n",
    "<br/>\n",
    "Poniżej zaprezentowano realizację badań wg ustalonego planu:\n"
   ]
  },
  {
   "cell_type": "markdown",
   "metadata": {},
   "source": [
    "<h2> Wczytanie i przygotowanie danych do obróbki</h2>"
   ]
  },
  {
   "cell_type": "code",
   "execution_count": 2,
   "metadata": {},
   "outputs": [
    {
     "data": {
      "text/html": [
       "<div>\n",
       "<style scoped>\n",
       "    .dataframe tbody tr th:only-of-type {\n",
       "        vertical-align: middle;\n",
       "    }\n",
       "\n",
       "    .dataframe tbody tr th {\n",
       "        vertical-align: top;\n",
       "    }\n",
       "\n",
       "    .dataframe thead th {\n",
       "        text-align: right;\n",
       "    }\n",
       "</style>\n",
       "<table border=\"1\" class=\"dataframe\">\n",
       "  <thead>\n",
       "    <tr style=\"text-align: right;\">\n",
       "      <th></th>\n",
       "      <th>id</th>\n",
       "      <th>age</th>\n",
       "      <th>gender</th>\n",
       "      <th>height</th>\n",
       "      <th>weight</th>\n",
       "      <th>ap_hi</th>\n",
       "      <th>ap_lo</th>\n",
       "      <th>cholesterol</th>\n",
       "      <th>gluc</th>\n",
       "      <th>smoke</th>\n",
       "      <th>alco</th>\n",
       "      <th>active</th>\n",
       "      <th>cardio</th>\n",
       "    </tr>\n",
       "  </thead>\n",
       "  <tbody>\n",
       "    <tr>\n",
       "      <th>0</th>\n",
       "      <td>0</td>\n",
       "      <td>18393</td>\n",
       "      <td>2</td>\n",
       "      <td>168</td>\n",
       "      <td>62.0</td>\n",
       "      <td>110</td>\n",
       "      <td>80</td>\n",
       "      <td>1</td>\n",
       "      <td>1</td>\n",
       "      <td>0</td>\n",
       "      <td>0</td>\n",
       "      <td>1</td>\n",
       "      <td>0</td>\n",
       "    </tr>\n",
       "    <tr>\n",
       "      <th>1</th>\n",
       "      <td>1</td>\n",
       "      <td>20228</td>\n",
       "      <td>1</td>\n",
       "      <td>156</td>\n",
       "      <td>85.0</td>\n",
       "      <td>140</td>\n",
       "      <td>90</td>\n",
       "      <td>3</td>\n",
       "      <td>1</td>\n",
       "      <td>0</td>\n",
       "      <td>0</td>\n",
       "      <td>1</td>\n",
       "      <td>1</td>\n",
       "    </tr>\n",
       "    <tr>\n",
       "      <th>2</th>\n",
       "      <td>2</td>\n",
       "      <td>18857</td>\n",
       "      <td>1</td>\n",
       "      <td>165</td>\n",
       "      <td>64.0</td>\n",
       "      <td>130</td>\n",
       "      <td>70</td>\n",
       "      <td>3</td>\n",
       "      <td>1</td>\n",
       "      <td>0</td>\n",
       "      <td>0</td>\n",
       "      <td>0</td>\n",
       "      <td>1</td>\n",
       "    </tr>\n",
       "    <tr>\n",
       "      <th>3</th>\n",
       "      <td>3</td>\n",
       "      <td>17623</td>\n",
       "      <td>2</td>\n",
       "      <td>169</td>\n",
       "      <td>82.0</td>\n",
       "      <td>150</td>\n",
       "      <td>100</td>\n",
       "      <td>1</td>\n",
       "      <td>1</td>\n",
       "      <td>0</td>\n",
       "      <td>0</td>\n",
       "      <td>1</td>\n",
       "      <td>1</td>\n",
       "    </tr>\n",
       "    <tr>\n",
       "      <th>4</th>\n",
       "      <td>4</td>\n",
       "      <td>17474</td>\n",
       "      <td>1</td>\n",
       "      <td>156</td>\n",
       "      <td>56.0</td>\n",
       "      <td>100</td>\n",
       "      <td>60</td>\n",
       "      <td>1</td>\n",
       "      <td>1</td>\n",
       "      <td>0</td>\n",
       "      <td>0</td>\n",
       "      <td>0</td>\n",
       "      <td>0</td>\n",
       "    </tr>\n",
       "  </tbody>\n",
       "</table>\n",
       "</div>"
      ],
      "text/plain": [
       "   id    age  gender  height  weight  ap_hi  ap_lo  cholesterol  gluc  smoke  \\\n",
       "0   0  18393       2     168    62.0    110     80            1     1      0   \n",
       "1   1  20228       1     156    85.0    140     90            3     1      0   \n",
       "2   2  18857       1     165    64.0    130     70            3     1      0   \n",
       "3   3  17623       2     169    82.0    150    100            1     1      0   \n",
       "4   4  17474       1     156    56.0    100     60            1     1      0   \n",
       "\n",
       "   alco  active  cardio  \n",
       "0     0       1       0  \n",
       "1     0       1       1  \n",
       "2     0       0       1  \n",
       "3     0       1       1  \n",
       "4     0       0       0  "
      ]
     },
     "execution_count": 2,
     "metadata": {},
     "output_type": "execute_result"
    }
   ],
   "source": [
    "import pandas as pd\n",
    "\n",
    "col_names = [\"id\", \"age\", \"gender\",\"height\", \"weight\", \"ap_hi\", \"ap_lo\", \"cholesterol\", \"gluc\", \"smoke\", \"alco\", \"active\", \"cardio\"]\n",
    "\n",
    "# load dataset\n",
    "data = pd.read_csv(\"cardio_dataset.csv\", header=None, names=col_names, delimiter=\";\")\n",
    "\n",
    "# drop rows with missing values\n",
    "data.dropna(inplace=True)\n",
    "\n",
    "data.head()"
   ]
  },
  {
   "cell_type": "markdown",
   "metadata": {},
   "source": [
    "<h2>Poznanie danych </h2>"
   ]
  },
  {
   "cell_type": "code",
   "execution_count": 69,
   "metadata": {},
   "outputs": [
    {
     "data": {
      "image/png": "[encoded data removed]",
      "text/plain": [
       "<Figure size 432x288 with 1 Axes>"
      ]
     },
     "metadata": {},
     "output_type": "display_data"
    }
   ],
   "source": [
    "import matplotlib.pyplot as plt\n",
    "import numpy as np\n",
    "\n",
    "genders = pd.unique(data['gender'])\n",
    "\n",
    "labels = ['Women', 'Men']\n",
    "\n",
    "df = pd.DataFrame(data, columns=['gender', 'id', 'cardio']).groupby(by=['gender']).agg({'id':'count'}).reset_index()\n",
    "df.rename(columns={'id': 'patientCount'}, inplace=True)\n",
    "\n",
    "\n",
    "women_data  = df[df['gender'] == 1]['patientCount'].values[0]\n",
    "men_data  = df[df['gender'] == 2]['patientCount'].values[0]\n",
    "\n",
    "sizes = [men_data, women_data]\n",
    "\n",
    "fig1, ax1 = plt.subplots()\n",
    "ax1.pie(sizes, labels=labels, autopct='%1.1f%%',\n",
    "        shadow=True, startangle=90)\n",
    "ax1.axis('equal')\n",
    "ax1.set_title('Patients divided into genders')\n",
    "plt.show()"
   ]
  },
  {
   "cell_type": "code",
   "execution_count": 3,
   "metadata": {},
   "outputs": [
    {
     "data": {
      "image/png": "[encoded data removed]",
      "text/plain": [
       "<Figure size 432x288 with 1 Axes>"
      ]
     },
     "metadata": {},
     "output_type": "display_data"
    }
   ],
   "source": [
    "cardio_data = data[data['cardio'] == 1]\n",
    "df = pd.DataFrame(cardio_data, columns=['gender', 'id']).groupby(by=['gender']).agg({'id':'count'}).reset_index()\n",
    "df.rename(columns={'id': 'patientCount'}, inplace=True)\n",
    "\n",
    "\n",
    "women_data  = df[df['gender'] == 1]['patientCount'].values[0]\n",
    "men_data  = df[df['gender'] == 2]['patientCount'].values[0]\n",
    "\n",
    "sizes = [men_data, women_data]\n",
    "\n",
    "fig1, ax1 = plt.subplots()\n",
    "ax1.pie(sizes, labels=labels, autopct='%1.1f%%',\n",
    "        shadow=True, startangle=90)\n",
    "ax1.axis('equal')\n",
    "ax1.set_title('Patients with cardio diseases divided into genders')\n",
    "plt.show()"
   ]
  },
  {
   "cell_type": "code",
   "execution_count": 4,
   "metadata": {},
   "outputs": [
    {
     "name": "stdout",
     "output_type": "stream",
     "text": [
      "Percent of people in the dataset with cardio disease:  49.97 %\n"
     ]
    }
   ],
   "source": [
    "print(\"Percent of people in the dataset with cardio disease: \", len(cardio_data)/len(data) * 100, \"%\")"
   ]
  },
  {
   "cell_type": "markdown",
   "metadata": {},
   "source": [
    "<h2>Określenie wagi dostępnych cech dla skuteczności klasyfikatora oraz wybór cech</h2>"
   ]
  },
  {
   "cell_type": "code",
   "execution_count": 70,
   "metadata": {},
   "outputs": [
    {
     "data": {
      "text/plain": [
       "<matplotlib.axes._subplots.AxesSubplot at 0x7f4994de8828>"
      ]
     },
     "execution_count": 70,
     "metadata": {},
     "output_type": "execute_result"
    },
    {
     "data": {
      "image/png": "[encoded data removed]",
      "text/plain": [
       "<Figure size 432x288 with 2 Axes>"
      ]
     },
     "metadata": {
      "needs_background": "light"
     },
     "output_type": "display_data"
    }
   ],
   "source": [
    "import seaborn as sns\n",
    "corr = data.corr()\n",
    "sns.heatmap(corr, \n",
    "            xticklabels=corr.columns.values,\n",
    "            yticklabels=corr.columns.values)"
   ]
  },
  {
   "cell_type": "code",
   "execution_count": 71,
   "metadata": {},
   "outputs": [
    {
     "name": "stderr",
     "output_type": "stream",
     "text": [
      "/home/magda/anaconda3/lib/python3.7/site-packages/sklearn/ensemble/forest.py:246: FutureWarning: The default value of n_estimators will change from 10 in version 0.20 to 100 in 0.22.\n",
      "  \"10 in version 0.20 to 100 in 0.22.\", FutureWarning)\n"
     ]
    },
    {
     "name": "stdout",
     "output_type": "stream",
     "text": [
      "Feature ranking:\n",
      "1. feature age (0.290665)\n",
      "2. feature ap_hi (0.183050)\n",
      "3. feature weight (0.177082)\n",
      "4. feature height (0.172577)\n",
      "5. feature ap_lo (0.104774)\n",
      "6. feature cholesterol (0.044789)\n",
      "7. feature gluc (0.009969)\n",
      "8. feature smoke (0.004708)\n",
      "9. feature gender (0.004404)\n",
      "10. feature active (0.004219)\n",
      "11. feature alco (0.003762)\n"
     ]
    },
    {
     "data": {
      "image/png": "[encoded data removed]",
      "text/plain": [
       "<Figure size 1080x720 with 1 Axes>"
      ]
     },
     "metadata": {
      "needs_background": "light"
     },
     "output_type": "display_data"
    }
   ],
   "source": [
    "\n",
    "from sklearn import datasets\n",
    "from sklearn import metrics\n",
    "from sklearn.ensemble import ExtraTreesClassifier\n",
    "\n",
    "feature_cols = [\"age\",\"gender\",\"height\", \"weight\", \"ap_hi\", \"ap_lo\", \"cholesterol\", \"gluc\", \"smoke\", \"alco\", \"active\"]\n",
    "X = data[feature_cols] # Features\n",
    "Y = data.cardio # Target variable\n",
    "\n",
    "# fit an Extra Trees model to the data\n",
    "model = ExtraTreesClassifier()\n",
    "model.fit(X, Y)\n",
    "\n",
    "importances = model.feature_importances_\n",
    "std = np.std([tree.feature_importances_ for tree in model.estimators_],\n",
    "             axis=0)\n",
    "indices = np.argsort(importances)[::-1]\n",
    "indices_names =  list(map(lambda x: feature_cols[x], indices))\n",
    "\n",
    "# Print the feature ranking\n",
    "print(\"Feature ranking:\")\n",
    "\n",
    "for f in range(X.shape[1]):\n",
    "    print(\"%d. feature %s (%f)\" % (f + 1, indices_names[f], importances[indices[f]]))\n",
    "\n",
    "# Plot the feature importances of the model\n",
    "plt.figure(figsize=(15,10))\n",
    "plt.title(\"Feature importances\")\n",
    "plt.bar(range(X.shape[1]), importances[indices],\n",
    "       color=\"r\", yerr=std[indices], align=\"center\")\n",
    "plt.xticks(range(X.shape[1]), indices_names)\n",
    "plt.xlim([-1, X.shape[1]])\n",
    "plt.show()\n"
   ]
  },
  {
   "cell_type": "markdown",
   "metadata": {},
   "source": [
    "<h2> Podział danych na zbiory treningowe i testowe </h2>"
   ]
  },
  {
   "cell_type": "code",
   "execution_count": 63,
   "metadata": {},
   "outputs": [],
   "source": [
    "from sklearn.model_selection import train_test_split # Import train_test_split function\n",
    "chosen_features = [\"age\", \"ap_hi\", \"weight\", \"height\", \"ap_lo\", \"cholesterol\"]\n",
    "\n",
    "X = data[chosen_features] # Chosen features\n",
    "Y = data.cardio # Target variable\n",
    "\n",
    "X_train, X_test, y_train, y_test = train_test_split(X, Y, test_size=0.3, random_state=1) # 70% training and 30% test\n"
   ]
  },
  {
   "cell_type": "markdown",
   "metadata": {},
   "source": [
    "<h1> Decision Tree Classifier </h1>"
   ]
  },
  {
   "cell_type": "code",
   "execution_count": 62,
   "metadata": {},
   "outputs": [
    {
     "name": "stdout",
     "output_type": "stream",
     "text": [
      "Decision Tree Classifier accuracy: 0.6300714285714286\n",
      "Decision Tree Classifier accuracy with adjusted params [ depth: 1 ]:  0.7145\n",
      "Decision Tree Classifier accuracy with adjusted params [ depth: 2 ]:  0.7145\n",
      "Decision Tree Classifier accuracy with adjusted params [ depth: 3 ]:  0.7268571428571429\n",
      "Decision Tree Classifier accuracy with adjusted params [ depth: 4 ]:  0.7288928571428571\n",
      "Decision Tree Classifier accuracy with adjusted params [ depth: 5 ]:  0.7272857142857143\n",
      "Decision Tree Classifier accuracy with adjusted params [ depth: 6 ]:  0.7272857142857143\n"
     ]
    }
   ],
   "source": [
    "from sklearn.tree import DecisionTreeClassifier\n",
    "\n",
    "# Create simple Decision Tree classifer object\n",
    "clf = DecisionTreeClassifier()\n",
    "\n",
    "# Train Decision Tree Classifer\n",
    "clf = clf.fit(X_train,y_train)\n",
    "\n",
    "# Predict the response for test dataset\n",
    "y_pred = clf.predict(X_test)\n",
    "\n",
    "\n",
    "print(\"Decision Tree Classifier accuracy:\",metrics.accuracy_score(y_test, y_pred))\n",
    "\n",
    "# Check different model params\n",
    "for i in range(1, 7):\n",
    "    # Create Decision Tree classifer object with adhusted params\n",
    "    clf = DecisionTreeClassifier(max_depth=i)\n",
    "\n",
    "    # Train Decision Tree Classifer\n",
    "    clf = clf.fit(X_train,y_train)\n",
    "\n",
    "    #Predict the response for test dataset\n",
    "    y_pred = clf.predict(X_test)\n",
    "\n",
    "    # Model Accuracy, how often is the classifier correct?\n",
    "    print(\"Decision Tree Classifier accuracy with adjusted params [ depth:\",i,\"]: \"  ,metrics.accuracy_score(y_test, y_pred))"
   ]
  },
  {
   "cell_type": "markdown",
   "metadata": {},
   "source": [
    "<h1>K Neighbors Classifier </h1>"
   ]
  },
  {
   "cell_type": "code",
   "execution_count": 61,
   "metadata": {},
   "outputs": [
    {
     "name": "stdout",
     "output_type": "stream",
     "text": [
      "K Neighbors Classifier accuracy [ n:  5 ] 0.6785714285714286\n",
      "K Neighbors Classifier accuracy [ n:  7 ] 0.6862857142857143\n",
      "K Neighbors Classifier accuracy [ n:  9 ] 0.6929642857142857\n",
      "K Neighbors Classifier accuracy [ n:  11 ] 0.6965\n",
      "K Neighbors Classifier accuracy [ n:  13 ] 0.70175\n",
      "K Neighbors Classifier accuracy [ n:  15 ] 0.7028214285714286\n",
      "K Neighbors Classifier accuracy [ n:  17 ] 0.70475\n",
      "K Neighbors Classifier accuracy [ n:  19 ] 0.7060714285714286\n",
      "K Neighbors Classifier accuracy [ n:  21 ] 0.7062142857142857\n",
      "K Neighbors Classifier accuracy [ n:  23 ] 0.7059285714285715\n",
      "K Neighbors Classifier accuracy [ n:  25 ] 0.7066428571428571\n",
      "K Neighbors Classifier accuracy [ n:  27 ] 0.7069285714285715\n",
      "K Neighbors Classifier accuracy [ n:  29 ] 0.7058928571428571\n",
      "K Neighbors Classifier accuracy [ n:  31 ] 0.7060357142857143\n",
      "K Neighbors Classifier accuracy [ n:  33 ] 0.7068928571428571\n",
      "K Neighbors Classifier accuracy [ n:  35 ] 0.7061785714285714\n",
      "K Neighbors Classifier accuracy [ n:  37 ] 0.7064285714285714\n",
      "K Neighbors Classifier accuracy [ n:  39 ] 0.7051785714285714\n",
      "K Neighbors Classifier accuracy [ n:  41 ] 0.7059285714285715\n",
      "K Neighbors Classifier accuracy [ n:  43 ] 0.7061071428571428\n",
      "K Neighbors Classifier accuracy [ n:  45 ] 0.7058214285714286\n",
      "K Neighbors Classifier accuracy [ n:  47 ] 0.7048928571428571\n",
      "K Neighbors Classifier accuracy [ n:  49 ] 0.7045357142857143\n"
     ]
    }
   ],
   "source": [
    "from sklearn.neighbors import KNeighborsClassifier\n",
    "\n",
    "for n in range(5, 50, 2):\n",
    "    neigh = KNeighborsClassifier(n_neighbors=n)\n",
    "    neigh.fit(X_train,y_train)\n",
    "    \n",
    "    y_pred = neigh.predict(X_test)\n",
    "    print(\"K Neighbors Classifier accuracy [ n: \",n, \"]\", metrics.accuracy_score(y_test, y_pred))"
   ]
  },
  {
   "cell_type": "markdown",
   "metadata": {},
   "source": [
    "<h1> Support Vector Classification </h1>"
   ]
  },
  {
   "cell_type": "code",
   "execution_count": 33,
   "metadata": {},
   "outputs": [
    {
     "name": "stdout",
     "output_type": "stream",
     "text": [
      "Support Vector Classification accuracy 0.5657142857142857\n"
     ]
    }
   ],
   "source": [
    "from sklearn.svm import SVC\n",
    "clf = SVC(gamma='auto')\n",
    "clf.fit(X_train, y_train)\n",
    "y_pred = clf.predict(X_test)\n",
    "print(\"Support Vector Classification accuracy\", metrics.accuracy_score(y_test, y_pred))"
   ]
  },
  {
   "cell_type": "code",
   "execution_count": 35,
   "metadata": {},
   "outputs": [
    {
     "name": "stdout",
     "output_type": "stream",
     "text": [
      "Support Vector Classification accuracy 0.5102380952380953\n"
     ]
    }
   ],
   "source": [
    "from sklearn.neural_network import MLPClassifier\n",
    "clf = MLPClassifier()\n",
    "clf.fit(X_train, y_train)\n",
    "y_pred = clf.predict(X_test)\n",
    "print(\"Support Vector Classification accuracy\", metrics.accuracy_score(y_test, y_pred))"
   ]
  },
  {
   "cell_type": "code",
   "execution_count": null,
   "metadata": {},
   "outputs": [],
   "source": []
  },
  {
   "cell_type": "code",
   "execution_count": 36,
   "metadata": {},
   "outputs": [
    {
     "name": "stdout",
     "output_type": "stream",
     "text": [
      "Gaussian Naive Bayes accuracy 0.5796190476190476\n"
     ]
    }
   ],
   "source": [
    "from sklearn.naive_bayes import GaussianNB\n",
    "clf = GaussianNB()\n",
    "clf.fit(X_train, y_train)\n",
    "y_pred = clf.predict(X_test)\n",
    "print(\"Gaussian Naive Bayes accuracy\", metrics.accuracy_score(y_test, y_pred))\n"
   ]
  },
  {
   "cell_type": "code",
   "execution_count": 41,
   "metadata": {},
   "outputs": [
    {
     "name": "stderr",
     "output_type": "stream",
     "text": [
      "/home/magda/anaconda3/lib/python3.7/site-packages/sklearn/linear_model/logistic.py:433: FutureWarning: Default solver will be changed to 'lbfgs' in 0.22. Specify a solver to silence this warning.\n",
      "  FutureWarning)\n"
     ]
    },
    {
     "name": "stdout",
     "output_type": "stream",
     "text": [
      "Gaussian Naive Bayes accuracy 0.7069047619047619\n"
     ]
    }
   ],
   "source": [
    "from sklearn.linear_model import LogisticRegression\n",
    "clf = LogisticRegression()\n",
    "clf.fit(X_train, y_train)\n",
    "y_pred = clf.predict(X_test)\n",
    "print(\"Gaussian Naive Bayes accuracy\", metrics.accuracy_score(y_test, y_pred))"
   ]
  },
  {
   "cell_type": "code",
   "execution_count": 60,
   "metadata": {},
   "outputs": [
    {
     "name": "stdout",
     "output_type": "stream",
     "text": [
      "___ 0.7324642857142857\n"
     ]
    }
   ],
   "source": [
    "from sklearn.ensemble import RandomForestClassifier\n",
    "\n",
    "clf = RandomForestClassifier(n_estimators=100, max_depth=15, oob_score = True, n_jobs = -1, random_state =50,\n",
    "                            max_features = \"auto\", min_samples_leaf = 50)\n",
    "\n",
    "clf.fit(X_train, y_train)\n",
    "y_pred = clf.predict(X_test)\n",
    "print(\"___\", metrics.accuracy_score(y_test, y_pred))"
   ]
  },
  {
   "cell_type": "code",
   "execution_count": 58,
   "metadata": {},
   "outputs": [],
   "source": [
    "# TUNING PARAMS"
   ]
  },
  {
   "cell_type": "code",
   "execution_count": 72,
   "metadata": {},
   "outputs": [],
   "source": [
    "from sklearn.model_selection import GridSearchCV\n",
    "\n",
    "param_grid = {\n",
    "                 'n_estimators': [5, 10, 15, 20, 50, 100, 150, 200],\n",
    "                 'max_depth': [2, 5, 7, 9, 10, 13, 15]\n",
    "             }\n",
    "\n",
    "\n",
    "grid_clf = GridSearchCV(RandomForestClassifier(), param_grid, cv=10)\n",
    "grid_clf.fit(X_train, y_train)\n",
    "log_reg = grid_clf.best_estimator_\n",
    "\n",
    "y_pred = log_reg.predict(X_test)\n",
    "print(\"____\", metrics.accuracy_score(y_test, y_pred))"
   ]
  },
  {
   "cell_type": "code",
   "execution_count": 62,
   "metadata": {},
   "outputs": [
    {
     "name": "stderr",
     "output_type": "stream",
     "text": [
      "/home/magda/anaconda3/lib/python3.7/site-packages/sklearn/model_selection/_split.py:2053: FutureWarning: You should specify a value for 'cv' instead of relying on the default value. The default value will change from 3 to 5 in version 0.22.\n",
      "  warnings.warn(CV_WARNING, FutureWarning)\n",
      "/home/magda/anaconda3/lib/python3.7/site-packages/sklearn/linear_model/logistic.py:758: ConvergenceWarning: lbfgs failed to converge. Increase the number of iterations.\n",
      "  \"of iterations.\", ConvergenceWarning)\n",
      "/home/magda/anaconda3/lib/python3.7/site-packages/sklearn/linear_model/logistic.py:758: ConvergenceWarning: lbfgs failed to converge. Increase the number of iterations.\n",
      "  \"of iterations.\", ConvergenceWarning)\n",
      "/home/magda/anaconda3/lib/python3.7/site-packages/sklearn/linear_model/logistic.py:758: ConvergenceWarning: lbfgs failed to converge. Increase the number of iterations.\n",
      "  \"of iterations.\", ConvergenceWarning)\n",
      "/home/magda/anaconda3/lib/python3.7/site-packages/sklearn/linear_model/logistic.py:758: ConvergenceWarning: lbfgs failed to converge. Increase the number of iterations.\n",
      "  \"of iterations.\", ConvergenceWarning)\n",
      "/home/magda/anaconda3/lib/python3.7/site-packages/sklearn/linear_model/logistic.py:758: ConvergenceWarning: lbfgs failed to converge. Increase the number of iterations.\n",
      "  \"of iterations.\", ConvergenceWarning)\n",
      "/home/magda/anaconda3/lib/python3.7/site-packages/sklearn/linear_model/logistic.py:758: ConvergenceWarning: lbfgs failed to converge. Increase the number of iterations.\n",
      "  \"of iterations.\", ConvergenceWarning)\n",
      "/home/magda/anaconda3/lib/python3.7/site-packages/sklearn/linear_model/logistic.py:758: ConvergenceWarning: lbfgs failed to converge. Increase the number of iterations.\n",
      "  \"of iterations.\", ConvergenceWarning)\n"
     ]
    },
    {
     "name": "stdout",
     "output_type": "stream",
     "text": [
      "____ 0.7044761904761905\n"
     ]
    }
   ],
   "source": [
    "\n",
    "# Logistic Regression \n",
    "log_reg_params = {\"penalty\": ['l1', 'l2'], 'C': [0.001, 0.01, 0.1, 1, 10, 100, 1000]}\n",
    "\n",
    "\n",
    "\n",
    "grid_log_reg = GridSearchCV(LogisticRegression(), log_reg_params)\n",
    "grid_log_reg.fit(X_train, y_train)\n",
    "# We automatically get the logistic regression with the best parameters.\n",
    "log_reg = grid_log_reg.best_estimator_\n",
    "\n",
    "y_pred = log_reg.predict(X_test)\n",
    "print(\"____\", metrics.accuracy_score(y_test, y_pred))"
   ]
  },
  {
   "cell_type": "code",
   "execution_count": 73,
   "metadata": {},
   "outputs": [],
   "source": [
    "# DecisionTree Classifier\n",
    "tree_params = {\"criterion\": [\"gini\", \"entropy\"], \"max_depth\": list(range(2,4,1)), \n",
    "              \"min_samples_leaf\": list(range(5,7,1))}\n",
    "grid_tree = GridSearchCV(DecisionTreeClassifier(), tree_params)\n",
    "grid_tree.fit(X_train, y_train)\n",
    "\n",
    "# tree best estimator\n",
    "tree_clf = grid_tree.best_estimator_\n",
    "\n",
    "y_pred = tree_clf.predict(X_test)\n",
    "print(\"____\", metrics.accuracy_score(y_test, y_pred))"
   ]
  },
  {
   "cell_type": "code",
   "execution_count": null,
   "metadata": {},
   "outputs": [],
   "source": []
  },
  {
   "cell_type": "code",
   "execution_count": 11,
   "metadata": {},
   "outputs": [
    {
     "name": "stdout",
     "output_type": "stream",
     "text": [
      "____ 0.6457619047619048\n"
     ]
    }
   ],
   "source": [
    "import numpy as np\n",
    "from sklearn.discriminant_analysis import LinearDiscriminantAnalysis\n",
    "\n",
    "clf = LinearDiscriminantAnalysis(solver=\"eigen\")\n",
    "clf.fit(X_train, y_train)\n",
    "\n",
    "y_pred = clf.predict(X_test)\n",
    "print(\"____\", metrics.accuracy_score(y_test, y_pred))"
   ]
  },
  {
   "cell_type": "code",
   "execution_count": null,
   "metadata": {},
   "outputs": [],
   "source": []
  }
 ],
 "metadata": {
  "kernelspec": {
   "display_name": "Python 3",
   "language": "python",
   "name": "python3"
  },
  "language_info": {
   "codemirror_mode": {
    "name": "ipython",
    "version": 3
   },
   "file_extension": ".py",
   "mimetype": "text/x-python",
   "name": "python",
   "nbconvert_exporter": "python",
   "pygments_lexer": "ipython3",
   "version": "3.7.2"
  }
 },
 "nbformat": 4,
 "nbformat_minor": 2
}
